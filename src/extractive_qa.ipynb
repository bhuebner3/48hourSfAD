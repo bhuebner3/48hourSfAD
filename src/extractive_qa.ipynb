{
  "nbformat": 4,
  "nbformat_minor": 0,
  "metadata": {
    "colab": {
      "name": "train.ipynb",
      "provenance": [],
      "collapsed_sections": []
    },
    "kernelspec": {
      "name": "python3",
      "display_name": "Python 3"
    },
    "accelerator": "GPU",
    "widgets": {
      "application/vnd.jupyter.widget-state+json": {
        "395ba5d783dd4763b3df54db2a014739": {
          "model_module": "@jupyter-widgets/controls",
          "model_name": "HBoxModel",
          "model_module_version": "1.5.0",
          "state": {
            "_dom_classes": [],
            "_model_module": "@jupyter-widgets/controls",
            "_model_module_version": "1.5.0",
            "_model_name": "HBoxModel",
            "_view_count": null,
            "_view_module": "@jupyter-widgets/controls",
            "_view_module_version": "1.5.0",
            "_view_name": "HBoxView",
            "box_style": "",
            "children": [
              "IPY_MODEL_73f07e23820c4f65ba72875d9184f118",
              "IPY_MODEL_a743ac2c648f482eaf32fb273cdd7334",
              "IPY_MODEL_82998a7b3d5f4e86ba8845faf84b6cc4"
            ],
            "layout": "IPY_MODEL_d3b76acb02fc47b5bf9003e447c575cc"
          }
        },
        "73f07e23820c4f65ba72875d9184f118": {
          "model_module": "@jupyter-widgets/controls",
          "model_name": "HTMLModel",
          "model_module_version": "1.5.0",
          "state": {
            "_dom_classes": [],
            "_model_module": "@jupyter-widgets/controls",
            "_model_module_version": "1.5.0",
            "_model_name": "HTMLModel",
            "_view_count": null,
            "_view_module": "@jupyter-widgets/controls",
            "_view_module_version": "1.5.0",
            "_view_name": "HTMLView",
            "description": "",
            "description_tooltip": null,
            "layout": "IPY_MODEL_cb19f107ad374815ad41a85cc5c1a1ef",
            "placeholder": "​",
            "style": "IPY_MODEL_15c3c57423d949a4bd9542277b068614",
            "value": "100%"
          }
        },
        "a743ac2c648f482eaf32fb273cdd7334": {
          "model_module": "@jupyter-widgets/controls",
          "model_name": "FloatProgressModel",
          "model_module_version": "1.5.0",
          "state": {
            "_dom_classes": [],
            "_model_module": "@jupyter-widgets/controls",
            "_model_module_version": "1.5.0",
            "_model_name": "FloatProgressModel",
            "_view_count": null,
            "_view_module": "@jupyter-widgets/controls",
            "_view_module_version": "1.5.0",
            "_view_name": "ProgressView",
            "bar_style": "success",
            "description": "",
            "description_tooltip": null,
            "layout": "IPY_MODEL_5102173471b445e7b82f022156bdad24",
            "max": 2,
            "min": 0,
            "orientation": "horizontal",
            "style": "IPY_MODEL_77c687dd432842579378c7d3d7b28af2",
            "value": 2
          }
        },
        "82998a7b3d5f4e86ba8845faf84b6cc4": {
          "model_module": "@jupyter-widgets/controls",
          "model_name": "HTMLModel",
          "model_module_version": "1.5.0",
          "state": {
            "_dom_classes": [],
            "_model_module": "@jupyter-widgets/controls",
            "_model_module_version": "1.5.0",
            "_model_name": "HTMLModel",
            "_view_count": null,
            "_view_module": "@jupyter-widgets/controls",
            "_view_module_version": "1.5.0",
            "_view_name": "HTMLView",
            "description": "",
            "description_tooltip": null,
            "layout": "IPY_MODEL_cfddb00a62da4d3c84763ca05e92a00e",
            "placeholder": "​",
            "style": "IPY_MODEL_06bbe88f687b4140aee4582b197bb2d0",
            "value": " 2/2 [00:00&lt;00:00, 45.83it/s]"
          }
        },
        "d3b76acb02fc47b5bf9003e447c575cc": {
          "model_module": "@jupyter-widgets/base",
          "model_name": "LayoutModel",
          "model_module_version": "1.2.0",
          "state": {
            "_model_module": "@jupyter-widgets/base",
            "_model_module_version": "1.2.0",
            "_model_name": "LayoutModel",
            "_view_count": null,
            "_view_module": "@jupyter-widgets/base",
            "_view_module_version": "1.2.0",
            "_view_name": "LayoutView",
            "align_content": null,
            "align_items": null,
            "align_self": null,
            "border": null,
            "bottom": null,
            "display": null,
            "flex": null,
            "flex_flow": null,
            "grid_area": null,
            "grid_auto_columns": null,
            "grid_auto_flow": null,
            "grid_auto_rows": null,
            "grid_column": null,
            "grid_gap": null,
            "grid_row": null,
            "grid_template_areas": null,
            "grid_template_columns": null,
            "grid_template_rows": null,
            "height": null,
            "justify_content": null,
            "justify_items": null,
            "left": null,
            "margin": null,
            "max_height": null,
            "max_width": null,
            "min_height": null,
            "min_width": null,
            "object_fit": null,
            "object_position": null,
            "order": null,
            "overflow": null,
            "overflow_x": null,
            "overflow_y": null,
            "padding": null,
            "right": null,
            "top": null,
            "visibility": null,
            "width": null
          }
        },
        "cb19f107ad374815ad41a85cc5c1a1ef": {
          "model_module": "@jupyter-widgets/base",
          "model_name": "LayoutModel",
          "model_module_version": "1.2.0",
          "state": {
            "_model_module": "@jupyter-widgets/base",
            "_model_module_version": "1.2.0",
            "_model_name": "LayoutModel",
            "_view_count": null,
            "_view_module": "@jupyter-widgets/base",
            "_view_module_version": "1.2.0",
            "_view_name": "LayoutView",
            "align_content": null,
            "align_items": null,
            "align_self": null,
            "border": null,
            "bottom": null,
            "display": null,
            "flex": null,
            "flex_flow": null,
            "grid_area": null,
            "grid_auto_columns": null,
            "grid_auto_flow": null,
            "grid_auto_rows": null,
            "grid_column": null,
            "grid_gap": null,
            "grid_row": null,
            "grid_template_areas": null,
            "grid_template_columns": null,
            "grid_template_rows": null,
            "height": null,
            "justify_content": null,
            "justify_items": null,
            "left": null,
            "margin": null,
            "max_height": null,
            "max_width": null,
            "min_height": null,
            "min_width": null,
            "object_fit": null,
            "object_position": null,
            "order": null,
            "overflow": null,
            "overflow_x": null,
            "overflow_y": null,
            "padding": null,
            "right": null,
            "top": null,
            "visibility": null,
            "width": null
          }
        },
        "15c3c57423d949a4bd9542277b068614": {
          "model_module": "@jupyter-widgets/controls",
          "model_name": "DescriptionStyleModel",
          "model_module_version": "1.5.0",
          "state": {
            "_model_module": "@jupyter-widgets/controls",
            "_model_module_version": "1.5.0",
            "_model_name": "DescriptionStyleModel",
            "_view_count": null,
            "_view_module": "@jupyter-widgets/base",
            "_view_module_version": "1.2.0",
            "_view_name": "StyleView",
            "description_width": ""
          }
        },
        "5102173471b445e7b82f022156bdad24": {
          "model_module": "@jupyter-widgets/base",
          "model_name": "LayoutModel",
          "model_module_version": "1.2.0",
          "state": {
            "_model_module": "@jupyter-widgets/base",
            "_model_module_version": "1.2.0",
            "_model_name": "LayoutModel",
            "_view_count": null,
            "_view_module": "@jupyter-widgets/base",
            "_view_module_version": "1.2.0",
            "_view_name": "LayoutView",
            "align_content": null,
            "align_items": null,
            "align_self": null,
            "border": null,
            "bottom": null,
            "display": null,
            "flex": null,
            "flex_flow": null,
            "grid_area": null,
            "grid_auto_columns": null,
            "grid_auto_flow": null,
            "grid_auto_rows": null,
            "grid_column": null,
            "grid_gap": null,
            "grid_row": null,
            "grid_template_areas": null,
            "grid_template_columns": null,
            "grid_template_rows": null,
            "height": null,
            "justify_content": null,
            "justify_items": null,
            "left": null,
            "margin": null,
            "max_height": null,
            "max_width": null,
            "min_height": null,
            "min_width": null,
            "object_fit": null,
            "object_position": null,
            "order": null,
            "overflow": null,
            "overflow_x": null,
            "overflow_y": null,
            "padding": null,
            "right": null,
            "top": null,
            "visibility": null,
            "width": null
          }
        },
        "77c687dd432842579378c7d3d7b28af2": {
          "model_module": "@jupyter-widgets/controls",
          "model_name": "ProgressStyleModel",
          "model_module_version": "1.5.0",
          "state": {
            "_model_module": "@jupyter-widgets/controls",
            "_model_module_version": "1.5.0",
            "_model_name": "ProgressStyleModel",
            "_view_count": null,
            "_view_module": "@jupyter-widgets/base",
            "_view_module_version": "1.2.0",
            "_view_name": "StyleView",
            "bar_color": null,
            "description_width": ""
          }
        },
        "cfddb00a62da4d3c84763ca05e92a00e": {
          "model_module": "@jupyter-widgets/base",
          "model_name": "LayoutModel",
          "model_module_version": "1.2.0",
          "state": {
            "_model_module": "@jupyter-widgets/base",
            "_model_module_version": "1.2.0",
            "_model_name": "LayoutModel",
            "_view_count": null,
            "_view_module": "@jupyter-widgets/base",
            "_view_module_version": "1.2.0",
            "_view_name": "LayoutView",
            "align_content": null,
            "align_items": null,
            "align_self": null,
            "border": null,
            "bottom": null,
            "display": null,
            "flex": null,
            "flex_flow": null,
            "grid_area": null,
            "grid_auto_columns": null,
            "grid_auto_flow": null,
            "grid_auto_rows": null,
            "grid_column": null,
            "grid_gap": null,
            "grid_row": null,
            "grid_template_areas": null,
            "grid_template_columns": null,
            "grid_template_rows": null,
            "height": null,
            "justify_content": null,
            "justify_items": null,
            "left": null,
            "margin": null,
            "max_height": null,
            "max_width": null,
            "min_height": null,
            "min_width": null,
            "object_fit": null,
            "object_position": null,
            "order": null,
            "overflow": null,
            "overflow_x": null,
            "overflow_y": null,
            "padding": null,
            "right": null,
            "top": null,
            "visibility": null,
            "width": null
          }
        },
        "06bbe88f687b4140aee4582b197bb2d0": {
          "model_module": "@jupyter-widgets/controls",
          "model_name": "DescriptionStyleModel",
          "model_module_version": "1.5.0",
          "state": {
            "_model_module": "@jupyter-widgets/controls",
            "_model_module_version": "1.5.0",
            "_model_name": "DescriptionStyleModel",
            "_view_count": null,
            "_view_module": "@jupyter-widgets/base",
            "_view_module_version": "1.2.0",
            "_view_name": "StyleView",
            "description_width": ""
          }
        }
      }
    }
  },
  "cells": [
    {
      "cell_type": "markdown",
      "metadata": {
        "id": "D8usSW9Bwv4h"
      },
      "source": [
        "# AIR - Exercise in Google Colab\n",
        "\n",
        "## Colab Preparation\n",
        "\n",
        "Open via google drive -> right click: open with Colab\n",
        "\n",
        "**Get a GPU**\n",
        "\n",
        "Toolbar -> Runtime -> Change Runtime Type -> GPU\n",
        "\n",
        "**Mount Google Drive**\n",
        "\n",
        "* Download data and clone your github repo to your Google Drive folder\n",
        "* Use Google Drive as connection between Github and Colab (Could also use direct github access, but re-submitting credentials might be annoying)\n",
        "* Commit to Github locally from the synced drive\n",
        "\n",
        "**Keep Alive**\n",
        "\n",
        "When training google colab tends to kick you out, This might help: https://medium.com/@shivamrawat_756/how-to-prevent-google-colab-from-disconnecting-717b88a128c0\n",
        "\n",
        "**Get Started**\n",
        "\n",
        "Run the following script to mount google drive and install needed python packages. Pytorch comes pre-installed."
      ]
    },
    {
      "cell_type": "code",
      "execution_count": 33,
      "metadata": {
        "colab": {
          "base_uri": "https://localhost:8080/"
        },
        "id": "Sfiw_6jZ0uWa",
        "outputId": "4af0cd0a-372f-4085-9d0c-2e7daeeb184d"
      },
      "outputs": [
        {
          "output_type": "stream",
          "name": "stdout",
          "text": [
            "Drive already mounted at /content/gdrive; to attempt to forcibly remount, call drive.mount(\"/content/gdrive\", force_remount=True).\n"
          ]
        }
      ],
      "source": [
        "from google.colab import drive\n",
        "drive.mount('/content/gdrive')\n"
      ]
    },
    {
      "cell_type": "code",
      "execution_count": 34,
      "metadata": {
        "id": "IUVVDw1m2sed"
      },
      "outputs": [],
      "source": [
        "## implement part 2 here"
      ]
    },
    {
      "cell_type": "markdown",
      "source": [
        "# PLAN\n",
        "1. Select a pre-trained extractive QA (Question-Answer) model from the model hub to use\n",
        "2. Load the model\n",
        "3. Tokenize query passage pairs\n",
        "4. Run inference\n",
        "5. Store results with HuggingFace library: Provide >=1 text-spans that answers a given (query, passage) pair\n",
        "6. Evaluate >= top1 MSMARCO passage results from best re-ranking model\n",
        "\n",
        "Sources:\n",
        "- Tutorial for Pipeline: https://towardsdatascience.com/question-and-answering-with-bert-6ef89a78dac\n",
        "- Explanation of BERT: http://jalammar.github.io/illustrated-transformer/\n"
      ],
      "metadata": {
        "collapsed": false,
        "id": "DU7tzpYv0b4l"
      }
    },
    {
      "cell_type": "markdown",
      "source": [
        "# Import packages "
      ],
      "metadata": {
        "id": "e1jVqIb803fF"
      }
    },
    {
      "cell_type": "code",
      "execution_count": 35,
      "outputs": [
        {
          "output_type": "stream",
          "name": "stdout",
          "text": [
            "Looking in indexes: https://pypi.org/simple, https://us-python.pkg.dev/colab-wheels/public/simple/\n",
            "Requirement already satisfied: transformers in /usr/local/lib/python3.7/dist-packages (4.19.2)\n",
            "Requirement already satisfied: importlib-metadata in /usr/local/lib/python3.7/dist-packages (from transformers) (4.11.4)\n",
            "Requirement already satisfied: huggingface-hub<1.0,>=0.1.0 in /usr/local/lib/python3.7/dist-packages (from transformers) (0.7.0)\n",
            "Requirement already satisfied: filelock in /usr/local/lib/python3.7/dist-packages (from transformers) (3.7.0)\n",
            "Requirement already satisfied: tokenizers!=0.11.3,<0.13,>=0.11.1 in /usr/local/lib/python3.7/dist-packages (from transformers) (0.12.1)\n",
            "Requirement already satisfied: regex!=2019.12.17 in /usr/local/lib/python3.7/dist-packages (from transformers) (2019.12.20)\n",
            "Requirement already satisfied: requests in /usr/local/lib/python3.7/dist-packages (from transformers) (2.23.0)\n",
            "Requirement already satisfied: packaging>=20.0 in /usr/local/lib/python3.7/dist-packages (from transformers) (21.3)\n",
            "Requirement already satisfied: numpy>=1.17 in /usr/local/lib/python3.7/dist-packages (from transformers) (1.21.6)\n",
            "Requirement already satisfied: tqdm>=4.27 in /usr/local/lib/python3.7/dist-packages (from transformers) (4.64.0)\n",
            "Requirement already satisfied: pyyaml>=5.1 in /usr/local/lib/python3.7/dist-packages (from transformers) (6.0)\n",
            "Requirement already satisfied: typing-extensions>=3.7.4.3 in /usr/local/lib/python3.7/dist-packages (from huggingface-hub<1.0,>=0.1.0->transformers) (4.2.0)\n",
            "Requirement already satisfied: pyparsing!=3.0.5,>=2.0.2 in /usr/local/lib/python3.7/dist-packages (from packaging>=20.0->transformers) (3.0.9)\n",
            "Requirement already satisfied: zipp>=0.5 in /usr/local/lib/python3.7/dist-packages (from importlib-metadata->transformers) (3.8.0)\n",
            "Requirement already satisfied: urllib3!=1.25.0,!=1.25.1,<1.26,>=1.21.1 in /usr/local/lib/python3.7/dist-packages (from requests->transformers) (1.25.11)\n",
            "Requirement already satisfied: chardet<4,>=3.0.2 in /usr/local/lib/python3.7/dist-packages (from requests->transformers) (3.0.4)\n",
            "Requirement already satisfied: certifi>=2017.4.17 in /usr/local/lib/python3.7/dist-packages (from requests->transformers) (2022.5.18.1)\n",
            "Requirement already satisfied: idna<3,>=2.5 in /usr/local/lib/python3.7/dist-packages (from requests->transformers) (2.10)\n",
            "Looking in indexes: https://pypi.org/simple, https://us-python.pkg.dev/colab-wheels/public/simple/\n",
            "Requirement already satisfied: datasets in /usr/local/lib/python3.7/dist-packages (2.2.2)\n",
            "Requirement already satisfied: xxhash in /usr/local/lib/python3.7/dist-packages (from datasets) (3.0.0)\n",
            "Requirement already satisfied: packaging in /usr/local/lib/python3.7/dist-packages (from datasets) (21.3)\n",
            "Requirement already satisfied: pyarrow>=6.0.0 in /usr/local/lib/python3.7/dist-packages (from datasets) (6.0.1)\n",
            "Requirement already satisfied: numpy>=1.17 in /usr/local/lib/python3.7/dist-packages (from datasets) (1.21.6)\n",
            "Requirement already satisfied: tqdm>=4.62.1 in /usr/local/lib/python3.7/dist-packages (from datasets) (4.64.0)\n",
            "Requirement already satisfied: multiprocess in /usr/local/lib/python3.7/dist-packages (from datasets) (0.70.12.2)\n",
            "Requirement already satisfied: responses<0.19 in /usr/local/lib/python3.7/dist-packages (from datasets) (0.18.0)\n",
            "Requirement already satisfied: importlib-metadata in /usr/local/lib/python3.7/dist-packages (from datasets) (4.11.4)\n",
            "Requirement already satisfied: pandas in /usr/local/lib/python3.7/dist-packages (from datasets) (1.3.5)\n",
            "Requirement already satisfied: requests>=2.19.0 in /usr/local/lib/python3.7/dist-packages (from datasets) (2.23.0)\n",
            "Requirement already satisfied: huggingface-hub<1.0.0,>=0.1.0 in /usr/local/lib/python3.7/dist-packages (from datasets) (0.7.0)\n",
            "Requirement already satisfied: fsspec[http]>=2021.05.0 in /usr/local/lib/python3.7/dist-packages (from datasets) (2022.5.0)\n",
            "Requirement already satisfied: dill<0.3.5 in /usr/local/lib/python3.7/dist-packages (from datasets) (0.3.4)\n",
            "Requirement already satisfied: aiohttp in /usr/local/lib/python3.7/dist-packages (from datasets) (3.8.1)\n",
            "Requirement already satisfied: filelock in /usr/local/lib/python3.7/dist-packages (from huggingface-hub<1.0.0,>=0.1.0->datasets) (3.7.0)\n",
            "Requirement already satisfied: pyyaml>=5.1 in /usr/local/lib/python3.7/dist-packages (from huggingface-hub<1.0.0,>=0.1.0->datasets) (6.0)\n",
            "Requirement already satisfied: typing-extensions>=3.7.4.3 in /usr/local/lib/python3.7/dist-packages (from huggingface-hub<1.0.0,>=0.1.0->datasets) (4.2.0)\n",
            "Requirement already satisfied: pyparsing!=3.0.5,>=2.0.2 in /usr/local/lib/python3.7/dist-packages (from packaging->datasets) (3.0.9)\n",
            "Requirement already satisfied: certifi>=2017.4.17 in /usr/local/lib/python3.7/dist-packages (from requests>=2.19.0->datasets) (2022.5.18.1)\n",
            "Requirement already satisfied: idna<3,>=2.5 in /usr/local/lib/python3.7/dist-packages (from requests>=2.19.0->datasets) (2.10)\n",
            "Requirement already satisfied: urllib3!=1.25.0,!=1.25.1,<1.26,>=1.21.1 in /usr/local/lib/python3.7/dist-packages (from requests>=2.19.0->datasets) (1.25.11)\n",
            "Requirement already satisfied: chardet<4,>=3.0.2 in /usr/local/lib/python3.7/dist-packages (from requests>=2.19.0->datasets) (3.0.4)\n",
            "Requirement already satisfied: attrs>=17.3.0 in /usr/local/lib/python3.7/dist-packages (from aiohttp->datasets) (21.4.0)\n",
            "Requirement already satisfied: multidict<7.0,>=4.5 in /usr/local/lib/python3.7/dist-packages (from aiohttp->datasets) (6.0.2)\n",
            "Requirement already satisfied: aiosignal>=1.1.2 in /usr/local/lib/python3.7/dist-packages (from aiohttp->datasets) (1.2.0)\n",
            "Requirement already satisfied: asynctest==0.13.0 in /usr/local/lib/python3.7/dist-packages (from aiohttp->datasets) (0.13.0)\n",
            "Requirement already satisfied: charset-normalizer<3.0,>=2.0 in /usr/local/lib/python3.7/dist-packages (from aiohttp->datasets) (2.0.12)\n",
            "Requirement already satisfied: async-timeout<5.0,>=4.0.0a3 in /usr/local/lib/python3.7/dist-packages (from aiohttp->datasets) (4.0.2)\n",
            "Requirement already satisfied: yarl<2.0,>=1.0 in /usr/local/lib/python3.7/dist-packages (from aiohttp->datasets) (1.7.2)\n",
            "Requirement already satisfied: frozenlist>=1.1.1 in /usr/local/lib/python3.7/dist-packages (from aiohttp->datasets) (1.3.0)\n",
            "Requirement already satisfied: zipp>=0.5 in /usr/local/lib/python3.7/dist-packages (from importlib-metadata->datasets) (3.8.0)\n",
            "Requirement already satisfied: python-dateutil>=2.7.3 in /usr/local/lib/python3.7/dist-packages (from pandas->datasets) (2.8.2)\n",
            "Requirement already satisfied: pytz>=2017.3 in /usr/local/lib/python3.7/dist-packages (from pandas->datasets) (2022.1)\n",
            "Requirement already satisfied: six>=1.5 in /usr/local/lib/python3.7/dist-packages (from python-dateutil>=2.7.3->pandas->datasets) (1.15.0)\n",
            "Reading package lists... Done\n",
            "Building dependency tree       \n",
            "Reading state information... Done\n",
            "git-lfs is already the newest version (2.3.4-1).\n",
            "The following package was automatically installed and is no longer required:\n",
            "  libnvidia-common-460\n",
            "Use 'apt autoremove' to remove it.\n",
            "0 upgraded, 0 newly installed, 0 to remove and 45 not upgraded.\n"
          ]
        }
      ],
      "source": [
        "!pip install transformers\n",
        "!pip install datasets\n",
        "!apt install git-lfs #to push model in hub \n",
        "\n",
        "import pandas as pd\n",
        "import numpy as np\n",
        "import torch\n",
        "\n",
        "from transformers import BertTokenizer\n",
        "\n",
        "import datasets\n",
        "from datasets import Dataset\n",
        "from datasets import load_metric\n",
        "from datasets import load_dataset"
      ],
      "metadata": {
        "pycharm": {
          "name": "#%%\n"
        },
        "id": "NGYrT7Vr0b4m",
        "outputId": "4da1c66c-3dbd-487d-9383-30cd15aad417",
        "colab": {
          "base_uri": "https://localhost:8080/"
        }
      }
    },
    {
      "cell_type": "markdown",
      "source": [
        "# 1. Read in Data"
      ],
      "metadata": {
        "collapsed": false,
        "id": "XLFsdvar0b4p"
      }
    },
    {
      "cell_type": "code",
      "execution_count": 36,
      "outputs": [],
      "source": [
        "qa_tuples = pd.read_csv(\"/content/gdrive/MyDrive/air-20222-group-8-data/msmarco-fira-21.qrels.qa-tuples.tsv\", sep = \"\\t\", names=[\"query_id\", \"document_id\", \"relevance_grade\", \"query_text\", \"document_text\", \"NA\",\"text_selection\"])"
      ],
      "metadata": {
        "pycharm": {
          "name": "#%%\n"
        },
        "id": "UD1kcLOH0b4q"
      }
    },
    {
      "cell_type": "code",
      "source": [
        "qa_tuples"
      ],
      "metadata": {
        "id": "FRXp9kPalsOn",
        "outputId": "83f92e97-632d-4ed5-d814-c1abd1511eb5",
        "colab": {
          "base_uri": "https://localhost:8080/",
          "height": 502
        }
      },
      "execution_count": 37,
      "outputs": [
        {
          "output_type": "execute_result",
          "data": {
            "text/plain": [
              "       query_id  document_id  relevance_grade  \\\n",
              "0        135386       100163                3   \n",
              "1        290779       101026                3   \n",
              "2         21741      1021598                3   \n",
              "3        810210      1029662                3   \n",
              "4       1097448       103635                3   \n",
              "...         ...          ...              ...   \n",
              "52601    525779      4877404                2   \n",
              "52602    210442      4877731                3   \n",
              "52603   1088928      4878423                3   \n",
              "52604    550565      4881591                3   \n",
              "52605    474873      4882630                3   \n",
              "\n",
              "                                              query_text  \\\n",
              "0                              definition of imagination   \n",
              "1      how many oscars has clint eastwood won?pdrijgh...   \n",
              "2             are cold sores and fever blisters the same   \n",
              "3                what is the cause of blood in the stool   \n",
              "4                  how many calories in slim fast shakes   \n",
              "...                                                  ...   \n",
              "52601                                  twin tower adress   \n",
              "52602           how can i get more energy while pregnant   \n",
              "52603         vitamins a, d, e, and k are dependent upon   \n",
              "52604   what age can you wear baby on back in a carrier?   \n",
              "52605                   phone number to cancel sirius xm   \n",
              "\n",
              "                                           document_text  NA  \\\n",
              "0      imagination - the formation of a mental image ... NaN   \n",
              "1      Clint Eastwood -- five-time Oscar winner and e... NaN   \n",
              "2      Cold sores, sometimes called fever blisters, a... NaN   \n",
              "3      Having blood in the stool can be the result of... NaN   \n",
              "4      The chocolate-flavored shake contains 190, whi... NaN   \n",
              "...                                                  ...  ..   \n",
              "52601  The twin towers were built in the borough of M... NaN   \n",
              "52602  To compensate for this your body will require ... NaN   \n",
              "52603  Four important fat-soluble vitamins are A, D, ... NaN   \n",
              "52604  When can I carry my baby in a front pack facin... NaN   \n",
              "52605  Call 1-855-236-9236 when you get your new GMC ... NaN   \n",
              "\n",
              "                                          text_selection  \n",
              "0      the formation of a mental image of something t...  \n",
              "1                                                   five  \n",
              "2            Cold sores, sometimes called fever blisters  \n",
              "3      wide variety of conditions, such as hemorrhoid...  \n",
              "4                  chocolate-flavored shake contains 190  \n",
              "...                                                  ...  \n",
              "52601  The twin towers were built in the borough of M...  \n",
              "52602  To compensate for this your body will require ...  \n",
              "52603  Vitamins A, D, and K cooperate synergistically...  \n",
              "52604  As soon as your baby can hold his head up stea...  \n",
              "52605  Call 1-855-236-9236 when you get your new GMC ...  \n",
              "\n",
              "[52606 rows x 7 columns]"
            ],
            "text/html": [
              "\n",
              "  <div id=\"df-7496fc6f-60d3-4cf0-8bce-59189e9b6061\">\n",
              "    <div class=\"colab-df-container\">\n",
              "      <div>\n",
              "<style scoped>\n",
              "    .dataframe tbody tr th:only-of-type {\n",
              "        vertical-align: middle;\n",
              "    }\n",
              "\n",
              "    .dataframe tbody tr th {\n",
              "        vertical-align: top;\n",
              "    }\n",
              "\n",
              "    .dataframe thead th {\n",
              "        text-align: right;\n",
              "    }\n",
              "</style>\n",
              "<table border=\"1\" class=\"dataframe\">\n",
              "  <thead>\n",
              "    <tr style=\"text-align: right;\">\n",
              "      <th></th>\n",
              "      <th>query_id</th>\n",
              "      <th>document_id</th>\n",
              "      <th>relevance_grade</th>\n",
              "      <th>query_text</th>\n",
              "      <th>document_text</th>\n",
              "      <th>NA</th>\n",
              "      <th>text_selection</th>\n",
              "    </tr>\n",
              "  </thead>\n",
              "  <tbody>\n",
              "    <tr>\n",
              "      <th>0</th>\n",
              "      <td>135386</td>\n",
              "      <td>100163</td>\n",
              "      <td>3</td>\n",
              "      <td>definition of imagination</td>\n",
              "      <td>imagination - the formation of a mental image ...</td>\n",
              "      <td>NaN</td>\n",
              "      <td>the formation of a mental image of something t...</td>\n",
              "    </tr>\n",
              "    <tr>\n",
              "      <th>1</th>\n",
              "      <td>290779</td>\n",
              "      <td>101026</td>\n",
              "      <td>3</td>\n",
              "      <td>how many oscars has clint eastwood won?pdrijgh...</td>\n",
              "      <td>Clint Eastwood -- five-time Oscar winner and e...</td>\n",
              "      <td>NaN</td>\n",
              "      <td>five</td>\n",
              "    </tr>\n",
              "    <tr>\n",
              "      <th>2</th>\n",
              "      <td>21741</td>\n",
              "      <td>1021598</td>\n",
              "      <td>3</td>\n",
              "      <td>are cold sores and fever blisters the same</td>\n",
              "      <td>Cold sores, sometimes called fever blisters, a...</td>\n",
              "      <td>NaN</td>\n",
              "      <td>Cold sores, sometimes called fever blisters</td>\n",
              "    </tr>\n",
              "    <tr>\n",
              "      <th>3</th>\n",
              "      <td>810210</td>\n",
              "      <td>1029662</td>\n",
              "      <td>3</td>\n",
              "      <td>what is the cause of blood in the stool</td>\n",
              "      <td>Having blood in the stool can be the result of...</td>\n",
              "      <td>NaN</td>\n",
              "      <td>wide variety of conditions, such as hemorrhoid...</td>\n",
              "    </tr>\n",
              "    <tr>\n",
              "      <th>4</th>\n",
              "      <td>1097448</td>\n",
              "      <td>103635</td>\n",
              "      <td>3</td>\n",
              "      <td>how many calories in slim fast shakes</td>\n",
              "      <td>The chocolate-flavored shake contains 190, whi...</td>\n",
              "      <td>NaN</td>\n",
              "      <td>chocolate-flavored shake contains 190</td>\n",
              "    </tr>\n",
              "    <tr>\n",
              "      <th>...</th>\n",
              "      <td>...</td>\n",
              "      <td>...</td>\n",
              "      <td>...</td>\n",
              "      <td>...</td>\n",
              "      <td>...</td>\n",
              "      <td>...</td>\n",
              "      <td>...</td>\n",
              "    </tr>\n",
              "    <tr>\n",
              "      <th>52601</th>\n",
              "      <td>525779</td>\n",
              "      <td>4877404</td>\n",
              "      <td>2</td>\n",
              "      <td>twin tower adress</td>\n",
              "      <td>The twin towers were built in the borough of M...</td>\n",
              "      <td>NaN</td>\n",
              "      <td>The twin towers were built in the borough of M...</td>\n",
              "    </tr>\n",
              "    <tr>\n",
              "      <th>52602</th>\n",
              "      <td>210442</td>\n",
              "      <td>4877731</td>\n",
              "      <td>3</td>\n",
              "      <td>how can i get more energy while pregnant</td>\n",
              "      <td>To compensate for this your body will require ...</td>\n",
              "      <td>NaN</td>\n",
              "      <td>To compensate for this your body will require ...</td>\n",
              "    </tr>\n",
              "    <tr>\n",
              "      <th>52603</th>\n",
              "      <td>1088928</td>\n",
              "      <td>4878423</td>\n",
              "      <td>3</td>\n",
              "      <td>vitamins a, d, e, and k are dependent upon</td>\n",
              "      <td>Four important fat-soluble vitamins are A, D, ...</td>\n",
              "      <td>NaN</td>\n",
              "      <td>Vitamins A, D, and K cooperate synergistically...</td>\n",
              "    </tr>\n",
              "    <tr>\n",
              "      <th>52604</th>\n",
              "      <td>550565</td>\n",
              "      <td>4881591</td>\n",
              "      <td>3</td>\n",
              "      <td>what age can you wear baby on back in a carrier?</td>\n",
              "      <td>When can I carry my baby in a front pack facin...</td>\n",
              "      <td>NaN</td>\n",
              "      <td>As soon as your baby can hold his head up stea...</td>\n",
              "    </tr>\n",
              "    <tr>\n",
              "      <th>52605</th>\n",
              "      <td>474873</td>\n",
              "      <td>4882630</td>\n",
              "      <td>3</td>\n",
              "      <td>phone number to cancel sirius xm</td>\n",
              "      <td>Call 1-855-236-9236 when you get your new GMC ...</td>\n",
              "      <td>NaN</td>\n",
              "      <td>Call 1-855-236-9236 when you get your new GMC ...</td>\n",
              "    </tr>\n",
              "  </tbody>\n",
              "</table>\n",
              "<p>52606 rows × 7 columns</p>\n",
              "</div>\n",
              "      <button class=\"colab-df-convert\" onclick=\"convertToInteractive('df-7496fc6f-60d3-4cf0-8bce-59189e9b6061')\"\n",
              "              title=\"Convert this dataframe to an interactive table.\"\n",
              "              style=\"display:none;\">\n",
              "        \n",
              "  <svg xmlns=\"http://www.w3.org/2000/svg\" height=\"24px\"viewBox=\"0 0 24 24\"\n",
              "       width=\"24px\">\n",
              "    <path d=\"M0 0h24v24H0V0z\" fill=\"none\"/>\n",
              "    <path d=\"M18.56 5.44l.94 2.06.94-2.06 2.06-.94-2.06-.94-.94-2.06-.94 2.06-2.06.94zm-11 1L8.5 8.5l.94-2.06 2.06-.94-2.06-.94L8.5 2.5l-.94 2.06-2.06.94zm10 10l.94 2.06.94-2.06 2.06-.94-2.06-.94-.94-2.06-.94 2.06-2.06.94z\"/><path d=\"M17.41 7.96l-1.37-1.37c-.4-.4-.92-.59-1.43-.59-.52 0-1.04.2-1.43.59L10.3 9.45l-7.72 7.72c-.78.78-.78 2.05 0 2.83L4 21.41c.39.39.9.59 1.41.59.51 0 1.02-.2 1.41-.59l7.78-7.78 2.81-2.81c.8-.78.8-2.07 0-2.86zM5.41 20L4 18.59l7.72-7.72 1.47 1.35L5.41 20z\"/>\n",
              "  </svg>\n",
              "      </button>\n",
              "      \n",
              "  <style>\n",
              "    .colab-df-container {\n",
              "      display:flex;\n",
              "      flex-wrap:wrap;\n",
              "      gap: 12px;\n",
              "    }\n",
              "\n",
              "    .colab-df-convert {\n",
              "      background-color: #E8F0FE;\n",
              "      border: none;\n",
              "      border-radius: 50%;\n",
              "      cursor: pointer;\n",
              "      display: none;\n",
              "      fill: #1967D2;\n",
              "      height: 32px;\n",
              "      padding: 0 0 0 0;\n",
              "      width: 32px;\n",
              "    }\n",
              "\n",
              "    .colab-df-convert:hover {\n",
              "      background-color: #E2EBFA;\n",
              "      box-shadow: 0px 1px 2px rgba(60, 64, 67, 0.3), 0px 1px 3px 1px rgba(60, 64, 67, 0.15);\n",
              "      fill: #174EA6;\n",
              "    }\n",
              "\n",
              "    [theme=dark] .colab-df-convert {\n",
              "      background-color: #3B4455;\n",
              "      fill: #D2E3FC;\n",
              "    }\n",
              "\n",
              "    [theme=dark] .colab-df-convert:hover {\n",
              "      background-color: #434B5C;\n",
              "      box-shadow: 0px 1px 3px 1px rgba(0, 0, 0, 0.15);\n",
              "      filter: drop-shadow(0px 1px 2px rgba(0, 0, 0, 0.3));\n",
              "      fill: #FFFFFF;\n",
              "    }\n",
              "  </style>\n",
              "\n",
              "      <script>\n",
              "        const buttonEl =\n",
              "          document.querySelector('#df-7496fc6f-60d3-4cf0-8bce-59189e9b6061 button.colab-df-convert');\n",
              "        buttonEl.style.display =\n",
              "          google.colab.kernel.accessAllowed ? 'block' : 'none';\n",
              "\n",
              "        async function convertToInteractive(key) {\n",
              "          const element = document.querySelector('#df-7496fc6f-60d3-4cf0-8bce-59189e9b6061');\n",
              "          const dataTable =\n",
              "            await google.colab.kernel.invokeFunction('convertToInteractive',\n",
              "                                                     [key], {});\n",
              "          if (!dataTable) return;\n",
              "\n",
              "          const docLinkHtml = 'Like what you see? Visit the ' +\n",
              "            '<a target=\"_blank\" href=https://colab.research.google.com/notebooks/data_table.ipynb>data table notebook</a>'\n",
              "            + ' to learn more about interactive tables.';\n",
              "          element.innerHTML = '';\n",
              "          dataTable['output_type'] = 'display_data';\n",
              "          await google.colab.output.renderOutput(dataTable, element);\n",
              "          const docLink = document.createElement('div');\n",
              "          docLink.innerHTML = docLinkHtml;\n",
              "          element.appendChild(docLink);\n",
              "        }\n",
              "      </script>\n",
              "    </div>\n",
              "  </div>\n",
              "  "
            ]
          },
          "metadata": {},
          "execution_count": 37
        }
      ]
    },
    {
      "cell_type": "code",
      "execution_count": 38,
      "outputs": [
        {
          "output_type": "stream",
          "name": "stderr",
          "text": [
            "/usr/local/lib/python3.7/dist-packages/ipykernel_launcher.py:2: FutureWarning: In a future version of pandas all arguments of DataFrame.drop except for the argument 'labels' will be keyword-only\n",
            "  \n"
          ]
        }
      ],
      "source": [
        "#Drop NA Column\n",
        "qa_tuples = qa_tuples.drop('NA', 1)"
      ],
      "metadata": {
        "pycharm": {
          "name": "#%%\n"
        },
        "colab": {
          "base_uri": "https://localhost:8080/"
        },
        "id": "9oOiteW90b4r",
        "outputId": "d9903321-e5f1-4a22-ca63-6a998ebd46e1"
      }
    },
    {
      "cell_type": "code",
      "execution_count": 39,
      "outputs": [
        {
          "output_type": "execute_result",
          "data": {
            "text/plain": [
              "       query_id  document_id  relevance_grade  \\\n",
              "0        135386       100163                3   \n",
              "1        290779       101026                3   \n",
              "2         21741      1021598                3   \n",
              "3        810210      1029662                3   \n",
              "4       1097448       103635                3   \n",
              "...         ...          ...              ...   \n",
              "52601    525779      4877404                2   \n",
              "52602    210442      4877731                3   \n",
              "52603   1088928      4878423                3   \n",
              "52604    550565      4881591                3   \n",
              "52605    474873      4882630                3   \n",
              "\n",
              "                                              query_text  \\\n",
              "0                              definition of imagination   \n",
              "1      how many oscars has clint eastwood won?pdrijgh...   \n",
              "2             are cold sores and fever blisters the same   \n",
              "3                what is the cause of blood in the stool   \n",
              "4                  how many calories in slim fast shakes   \n",
              "...                                                  ...   \n",
              "52601                                  twin tower adress   \n",
              "52602           how can i get more energy while pregnant   \n",
              "52603         vitamins a, d, e, and k are dependent upon   \n",
              "52604   what age can you wear baby on back in a carrier?   \n",
              "52605                   phone number to cancel sirius xm   \n",
              "\n",
              "                                           document_text  \\\n",
              "0      imagination - the formation of a mental image ...   \n",
              "1      Clint Eastwood -- five-time Oscar winner and e...   \n",
              "2      Cold sores, sometimes called fever blisters, a...   \n",
              "3      Having blood in the stool can be the result of...   \n",
              "4      The chocolate-flavored shake contains 190, whi...   \n",
              "...                                                  ...   \n",
              "52601  The twin towers were built in the borough of M...   \n",
              "52602  To compensate for this your body will require ...   \n",
              "52603  Four important fat-soluble vitamins are A, D, ...   \n",
              "52604  When can I carry my baby in a front pack facin...   \n",
              "52605  Call 1-855-236-9236 when you get your new GMC ...   \n",
              "\n",
              "                                          text_selection  \n",
              "0      the formation of a mental image of something t...  \n",
              "1                                                   five  \n",
              "2            Cold sores, sometimes called fever blisters  \n",
              "3      wide variety of conditions, such as hemorrhoid...  \n",
              "4                  chocolate-flavored shake contains 190  \n",
              "...                                                  ...  \n",
              "52601  The twin towers were built in the borough of M...  \n",
              "52602  To compensate for this your body will require ...  \n",
              "52603  Vitamins A, D, and K cooperate synergistically...  \n",
              "52604  As soon as your baby can hold his head up stea...  \n",
              "52605  Call 1-855-236-9236 when you get your new GMC ...  \n",
              "\n",
              "[52606 rows x 6 columns]"
            ],
            "text/html": [
              "\n",
              "  <div id=\"df-9687a358-3b55-4220-9224-d01989ee3160\">\n",
              "    <div class=\"colab-df-container\">\n",
              "      <div>\n",
              "<style scoped>\n",
              "    .dataframe tbody tr th:only-of-type {\n",
              "        vertical-align: middle;\n",
              "    }\n",
              "\n",
              "    .dataframe tbody tr th {\n",
              "        vertical-align: top;\n",
              "    }\n",
              "\n",
              "    .dataframe thead th {\n",
              "        text-align: right;\n",
              "    }\n",
              "</style>\n",
              "<table border=\"1\" class=\"dataframe\">\n",
              "  <thead>\n",
              "    <tr style=\"text-align: right;\">\n",
              "      <th></th>\n",
              "      <th>query_id</th>\n",
              "      <th>document_id</th>\n",
              "      <th>relevance_grade</th>\n",
              "      <th>query_text</th>\n",
              "      <th>document_text</th>\n",
              "      <th>text_selection</th>\n",
              "    </tr>\n",
              "  </thead>\n",
              "  <tbody>\n",
              "    <tr>\n",
              "      <th>0</th>\n",
              "      <td>135386</td>\n",
              "      <td>100163</td>\n",
              "      <td>3</td>\n",
              "      <td>definition of imagination</td>\n",
              "      <td>imagination - the formation of a mental image ...</td>\n",
              "      <td>the formation of a mental image of something t...</td>\n",
              "    </tr>\n",
              "    <tr>\n",
              "      <th>1</th>\n",
              "      <td>290779</td>\n",
              "      <td>101026</td>\n",
              "      <td>3</td>\n",
              "      <td>how many oscars has clint eastwood won?pdrijgh...</td>\n",
              "      <td>Clint Eastwood -- five-time Oscar winner and e...</td>\n",
              "      <td>five</td>\n",
              "    </tr>\n",
              "    <tr>\n",
              "      <th>2</th>\n",
              "      <td>21741</td>\n",
              "      <td>1021598</td>\n",
              "      <td>3</td>\n",
              "      <td>are cold sores and fever blisters the same</td>\n",
              "      <td>Cold sores, sometimes called fever blisters, a...</td>\n",
              "      <td>Cold sores, sometimes called fever blisters</td>\n",
              "    </tr>\n",
              "    <tr>\n",
              "      <th>3</th>\n",
              "      <td>810210</td>\n",
              "      <td>1029662</td>\n",
              "      <td>3</td>\n",
              "      <td>what is the cause of blood in the stool</td>\n",
              "      <td>Having blood in the stool can be the result of...</td>\n",
              "      <td>wide variety of conditions, such as hemorrhoid...</td>\n",
              "    </tr>\n",
              "    <tr>\n",
              "      <th>4</th>\n",
              "      <td>1097448</td>\n",
              "      <td>103635</td>\n",
              "      <td>3</td>\n",
              "      <td>how many calories in slim fast shakes</td>\n",
              "      <td>The chocolate-flavored shake contains 190, whi...</td>\n",
              "      <td>chocolate-flavored shake contains 190</td>\n",
              "    </tr>\n",
              "    <tr>\n",
              "      <th>...</th>\n",
              "      <td>...</td>\n",
              "      <td>...</td>\n",
              "      <td>...</td>\n",
              "      <td>...</td>\n",
              "      <td>...</td>\n",
              "      <td>...</td>\n",
              "    </tr>\n",
              "    <tr>\n",
              "      <th>52601</th>\n",
              "      <td>525779</td>\n",
              "      <td>4877404</td>\n",
              "      <td>2</td>\n",
              "      <td>twin tower adress</td>\n",
              "      <td>The twin towers were built in the borough of M...</td>\n",
              "      <td>The twin towers were built in the borough of M...</td>\n",
              "    </tr>\n",
              "    <tr>\n",
              "      <th>52602</th>\n",
              "      <td>210442</td>\n",
              "      <td>4877731</td>\n",
              "      <td>3</td>\n",
              "      <td>how can i get more energy while pregnant</td>\n",
              "      <td>To compensate for this your body will require ...</td>\n",
              "      <td>To compensate for this your body will require ...</td>\n",
              "    </tr>\n",
              "    <tr>\n",
              "      <th>52603</th>\n",
              "      <td>1088928</td>\n",
              "      <td>4878423</td>\n",
              "      <td>3</td>\n",
              "      <td>vitamins a, d, e, and k are dependent upon</td>\n",
              "      <td>Four important fat-soluble vitamins are A, D, ...</td>\n",
              "      <td>Vitamins A, D, and K cooperate synergistically...</td>\n",
              "    </tr>\n",
              "    <tr>\n",
              "      <th>52604</th>\n",
              "      <td>550565</td>\n",
              "      <td>4881591</td>\n",
              "      <td>3</td>\n",
              "      <td>what age can you wear baby on back in a carrier?</td>\n",
              "      <td>When can I carry my baby in a front pack facin...</td>\n",
              "      <td>As soon as your baby can hold his head up stea...</td>\n",
              "    </tr>\n",
              "    <tr>\n",
              "      <th>52605</th>\n",
              "      <td>474873</td>\n",
              "      <td>4882630</td>\n",
              "      <td>3</td>\n",
              "      <td>phone number to cancel sirius xm</td>\n",
              "      <td>Call 1-855-236-9236 when you get your new GMC ...</td>\n",
              "      <td>Call 1-855-236-9236 when you get your new GMC ...</td>\n",
              "    </tr>\n",
              "  </tbody>\n",
              "</table>\n",
              "<p>52606 rows × 6 columns</p>\n",
              "</div>\n",
              "      <button class=\"colab-df-convert\" onclick=\"convertToInteractive('df-9687a358-3b55-4220-9224-d01989ee3160')\"\n",
              "              title=\"Convert this dataframe to an interactive table.\"\n",
              "              style=\"display:none;\">\n",
              "        \n",
              "  <svg xmlns=\"http://www.w3.org/2000/svg\" height=\"24px\"viewBox=\"0 0 24 24\"\n",
              "       width=\"24px\">\n",
              "    <path d=\"M0 0h24v24H0V0z\" fill=\"none\"/>\n",
              "    <path d=\"M18.56 5.44l.94 2.06.94-2.06 2.06-.94-2.06-.94-.94-2.06-.94 2.06-2.06.94zm-11 1L8.5 8.5l.94-2.06 2.06-.94-2.06-.94L8.5 2.5l-.94 2.06-2.06.94zm10 10l.94 2.06.94-2.06 2.06-.94-2.06-.94-.94-2.06-.94 2.06-2.06.94z\"/><path d=\"M17.41 7.96l-1.37-1.37c-.4-.4-.92-.59-1.43-.59-.52 0-1.04.2-1.43.59L10.3 9.45l-7.72 7.72c-.78.78-.78 2.05 0 2.83L4 21.41c.39.39.9.59 1.41.59.51 0 1.02-.2 1.41-.59l7.78-7.78 2.81-2.81c.8-.78.8-2.07 0-2.86zM5.41 20L4 18.59l7.72-7.72 1.47 1.35L5.41 20z\"/>\n",
              "  </svg>\n",
              "      </button>\n",
              "      \n",
              "  <style>\n",
              "    .colab-df-container {\n",
              "      display:flex;\n",
              "      flex-wrap:wrap;\n",
              "      gap: 12px;\n",
              "    }\n",
              "\n",
              "    .colab-df-convert {\n",
              "      background-color: #E8F0FE;\n",
              "      border: none;\n",
              "      border-radius: 50%;\n",
              "      cursor: pointer;\n",
              "      display: none;\n",
              "      fill: #1967D2;\n",
              "      height: 32px;\n",
              "      padding: 0 0 0 0;\n",
              "      width: 32px;\n",
              "    }\n",
              "\n",
              "    .colab-df-convert:hover {\n",
              "      background-color: #E2EBFA;\n",
              "      box-shadow: 0px 1px 2px rgba(60, 64, 67, 0.3), 0px 1px 3px 1px rgba(60, 64, 67, 0.15);\n",
              "      fill: #174EA6;\n",
              "    }\n",
              "\n",
              "    [theme=dark] .colab-df-convert {\n",
              "      background-color: #3B4455;\n",
              "      fill: #D2E3FC;\n",
              "    }\n",
              "\n",
              "    [theme=dark] .colab-df-convert:hover {\n",
              "      background-color: #434B5C;\n",
              "      box-shadow: 0px 1px 3px 1px rgba(0, 0, 0, 0.15);\n",
              "      filter: drop-shadow(0px 1px 2px rgba(0, 0, 0, 0.3));\n",
              "      fill: #FFFFFF;\n",
              "    }\n",
              "  </style>\n",
              "\n",
              "      <script>\n",
              "        const buttonEl =\n",
              "          document.querySelector('#df-9687a358-3b55-4220-9224-d01989ee3160 button.colab-df-convert');\n",
              "        buttonEl.style.display =\n",
              "          google.colab.kernel.accessAllowed ? 'block' : 'none';\n",
              "\n",
              "        async function convertToInteractive(key) {\n",
              "          const element = document.querySelector('#df-9687a358-3b55-4220-9224-d01989ee3160');\n",
              "          const dataTable =\n",
              "            await google.colab.kernel.invokeFunction('convertToInteractive',\n",
              "                                                     [key], {});\n",
              "          if (!dataTable) return;\n",
              "\n",
              "          const docLinkHtml = 'Like what you see? Visit the ' +\n",
              "            '<a target=\"_blank\" href=https://colab.research.google.com/notebooks/data_table.ipynb>data table notebook</a>'\n",
              "            + ' to learn more about interactive tables.';\n",
              "          element.innerHTML = '';\n",
              "          dataTable['output_type'] = 'display_data';\n",
              "          await google.colab.output.renderOutput(dataTable, element);\n",
              "          const docLink = document.createElement('div');\n",
              "          docLink.innerHTML = docLinkHtml;\n",
              "          element.appendChild(docLink);\n",
              "        }\n",
              "      </script>\n",
              "    </div>\n",
              "  </div>\n",
              "  "
            ]
          },
          "metadata": {},
          "execution_count": 39
        }
      ],
      "source": [
        "qa_tuples"
      ],
      "metadata": {
        "pycharm": {
          "name": "#%%\n"
        },
        "colab": {
          "base_uri": "https://localhost:8080/",
          "height": 468
        },
        "id": "8pB7GMGL0b4s",
        "outputId": "be47edd1-6263-4ddd-f21c-42e703d6231f"
      }
    },
    {
      "cell_type": "markdown",
      "source": [
        "## Test Dataset: QA Answers"
      ],
      "metadata": {
        "collapsed": false,
        "id": "AMg8u62V0b4t"
      }
    },
    {
      "cell_type": "code",
      "execution_count": 40,
      "outputs": [],
      "source": [
        "qa_answers = pd.read_csv(\"/content/gdrive/MyDrive/air-20222-group-8-data/msmarco-fira-21.qrels.qa-answers.tsv\", sep = \"\\t\", names=[\"query_id\",\"document_id\", \"relevance_grade\", \"NA\", \"text_selection\"])"
      ],
      "metadata": {
        "pycharm": {
          "name": "#%%\n"
        },
        "id": "zLDTKjk80b4t"
      }
    },
    {
      "cell_type": "code",
      "source": [
        "#Drop NA Column\n",
        "qa_answers = qa_answers.drop('NA', 1)"
      ],
      "metadata": {
        "colab": {
          "base_uri": "https://localhost:8080/"
        },
        "id": "Jde3e8kQZQYb",
        "outputId": "e0d036a5-e046-4726-cfa2-58523d8365d0"
      },
      "execution_count": 41,
      "outputs": [
        {
          "output_type": "stream",
          "name": "stderr",
          "text": [
            "/usr/local/lib/python3.7/dist-packages/ipykernel_launcher.py:2: FutureWarning: In a future version of pandas all arguments of DataFrame.drop except for the argument 'labels' will be keyword-only\n",
            "  \n"
          ]
        }
      ]
    },
    {
      "cell_type": "code",
      "execution_count": 42,
      "outputs": [
        {
          "output_type": "execute_result",
          "data": {
            "text/plain": [
              "       query_id  document_id  relevance_grade  \\\n",
              "0        135386       100163                3   \n",
              "1        290779       101026                3   \n",
              "2         21741      1021598                3   \n",
              "3        810210      1029662                3   \n",
              "4       1097448       103635                3   \n",
              "...         ...          ...              ...   \n",
              "52601    525779      4877404                2   \n",
              "52602    210442      4877731                3   \n",
              "52603   1088928      4878423                3   \n",
              "52604    550565      4881591                3   \n",
              "52605    474873      4882630                3   \n",
              "\n",
              "                                          text_selection  \n",
              "0      the formation of a mental image of something t...  \n",
              "1                                                   five  \n",
              "2            Cold sores, sometimes called fever blisters  \n",
              "3      wide variety of conditions, such as hemorrhoid...  \n",
              "4                  chocolate-flavored shake contains 190  \n",
              "...                                                  ...  \n",
              "52601  The twin towers were built in the borough of M...  \n",
              "52602  To compensate for this your body will require ...  \n",
              "52603  Vitamins A, D, and K cooperate synergistically...  \n",
              "52604  As soon as your baby can hold his head up stea...  \n",
              "52605  Call 1-855-236-9236 when you get your new GMC ...  \n",
              "\n",
              "[52606 rows x 4 columns]"
            ],
            "text/html": [
              "\n",
              "  <div id=\"df-adff3cd6-a765-488f-b18d-7378785fcda5\">\n",
              "    <div class=\"colab-df-container\">\n",
              "      <div>\n",
              "<style scoped>\n",
              "    .dataframe tbody tr th:only-of-type {\n",
              "        vertical-align: middle;\n",
              "    }\n",
              "\n",
              "    .dataframe tbody tr th {\n",
              "        vertical-align: top;\n",
              "    }\n",
              "\n",
              "    .dataframe thead th {\n",
              "        text-align: right;\n",
              "    }\n",
              "</style>\n",
              "<table border=\"1\" class=\"dataframe\">\n",
              "  <thead>\n",
              "    <tr style=\"text-align: right;\">\n",
              "      <th></th>\n",
              "      <th>query_id</th>\n",
              "      <th>document_id</th>\n",
              "      <th>relevance_grade</th>\n",
              "      <th>text_selection</th>\n",
              "    </tr>\n",
              "  </thead>\n",
              "  <tbody>\n",
              "    <tr>\n",
              "      <th>0</th>\n",
              "      <td>135386</td>\n",
              "      <td>100163</td>\n",
              "      <td>3</td>\n",
              "      <td>the formation of a mental image of something t...</td>\n",
              "    </tr>\n",
              "    <tr>\n",
              "      <th>1</th>\n",
              "      <td>290779</td>\n",
              "      <td>101026</td>\n",
              "      <td>3</td>\n",
              "      <td>five</td>\n",
              "    </tr>\n",
              "    <tr>\n",
              "      <th>2</th>\n",
              "      <td>21741</td>\n",
              "      <td>1021598</td>\n",
              "      <td>3</td>\n",
              "      <td>Cold sores, sometimes called fever blisters</td>\n",
              "    </tr>\n",
              "    <tr>\n",
              "      <th>3</th>\n",
              "      <td>810210</td>\n",
              "      <td>1029662</td>\n",
              "      <td>3</td>\n",
              "      <td>wide variety of conditions, such as hemorrhoid...</td>\n",
              "    </tr>\n",
              "    <tr>\n",
              "      <th>4</th>\n",
              "      <td>1097448</td>\n",
              "      <td>103635</td>\n",
              "      <td>3</td>\n",
              "      <td>chocolate-flavored shake contains 190</td>\n",
              "    </tr>\n",
              "    <tr>\n",
              "      <th>...</th>\n",
              "      <td>...</td>\n",
              "      <td>...</td>\n",
              "      <td>...</td>\n",
              "      <td>...</td>\n",
              "    </tr>\n",
              "    <tr>\n",
              "      <th>52601</th>\n",
              "      <td>525779</td>\n",
              "      <td>4877404</td>\n",
              "      <td>2</td>\n",
              "      <td>The twin towers were built in the borough of M...</td>\n",
              "    </tr>\n",
              "    <tr>\n",
              "      <th>52602</th>\n",
              "      <td>210442</td>\n",
              "      <td>4877731</td>\n",
              "      <td>3</td>\n",
              "      <td>To compensate for this your body will require ...</td>\n",
              "    </tr>\n",
              "    <tr>\n",
              "      <th>52603</th>\n",
              "      <td>1088928</td>\n",
              "      <td>4878423</td>\n",
              "      <td>3</td>\n",
              "      <td>Vitamins A, D, and K cooperate synergistically...</td>\n",
              "    </tr>\n",
              "    <tr>\n",
              "      <th>52604</th>\n",
              "      <td>550565</td>\n",
              "      <td>4881591</td>\n",
              "      <td>3</td>\n",
              "      <td>As soon as your baby can hold his head up stea...</td>\n",
              "    </tr>\n",
              "    <tr>\n",
              "      <th>52605</th>\n",
              "      <td>474873</td>\n",
              "      <td>4882630</td>\n",
              "      <td>3</td>\n",
              "      <td>Call 1-855-236-9236 when you get your new GMC ...</td>\n",
              "    </tr>\n",
              "  </tbody>\n",
              "</table>\n",
              "<p>52606 rows × 4 columns</p>\n",
              "</div>\n",
              "      <button class=\"colab-df-convert\" onclick=\"convertToInteractive('df-adff3cd6-a765-488f-b18d-7378785fcda5')\"\n",
              "              title=\"Convert this dataframe to an interactive table.\"\n",
              "              style=\"display:none;\">\n",
              "        \n",
              "  <svg xmlns=\"http://www.w3.org/2000/svg\" height=\"24px\"viewBox=\"0 0 24 24\"\n",
              "       width=\"24px\">\n",
              "    <path d=\"M0 0h24v24H0V0z\" fill=\"none\"/>\n",
              "    <path d=\"M18.56 5.44l.94 2.06.94-2.06 2.06-.94-2.06-.94-.94-2.06-.94 2.06-2.06.94zm-11 1L8.5 8.5l.94-2.06 2.06-.94-2.06-.94L8.5 2.5l-.94 2.06-2.06.94zm10 10l.94 2.06.94-2.06 2.06-.94-2.06-.94-.94-2.06-.94 2.06-2.06.94z\"/><path d=\"M17.41 7.96l-1.37-1.37c-.4-.4-.92-.59-1.43-.59-.52 0-1.04.2-1.43.59L10.3 9.45l-7.72 7.72c-.78.78-.78 2.05 0 2.83L4 21.41c.39.39.9.59 1.41.59.51 0 1.02-.2 1.41-.59l7.78-7.78 2.81-2.81c.8-.78.8-2.07 0-2.86zM5.41 20L4 18.59l7.72-7.72 1.47 1.35L5.41 20z\"/>\n",
              "  </svg>\n",
              "      </button>\n",
              "      \n",
              "  <style>\n",
              "    .colab-df-container {\n",
              "      display:flex;\n",
              "      flex-wrap:wrap;\n",
              "      gap: 12px;\n",
              "    }\n",
              "\n",
              "    .colab-df-convert {\n",
              "      background-color: #E8F0FE;\n",
              "      border: none;\n",
              "      border-radius: 50%;\n",
              "      cursor: pointer;\n",
              "      display: none;\n",
              "      fill: #1967D2;\n",
              "      height: 32px;\n",
              "      padding: 0 0 0 0;\n",
              "      width: 32px;\n",
              "    }\n",
              "\n",
              "    .colab-df-convert:hover {\n",
              "      background-color: #E2EBFA;\n",
              "      box-shadow: 0px 1px 2px rgba(60, 64, 67, 0.3), 0px 1px 3px 1px rgba(60, 64, 67, 0.15);\n",
              "      fill: #174EA6;\n",
              "    }\n",
              "\n",
              "    [theme=dark] .colab-df-convert {\n",
              "      background-color: #3B4455;\n",
              "      fill: #D2E3FC;\n",
              "    }\n",
              "\n",
              "    [theme=dark] .colab-df-convert:hover {\n",
              "      background-color: #434B5C;\n",
              "      box-shadow: 0px 1px 3px 1px rgba(0, 0, 0, 0.15);\n",
              "      filter: drop-shadow(0px 1px 2px rgba(0, 0, 0, 0.3));\n",
              "      fill: #FFFFFF;\n",
              "    }\n",
              "  </style>\n",
              "\n",
              "      <script>\n",
              "        const buttonEl =\n",
              "          document.querySelector('#df-adff3cd6-a765-488f-b18d-7378785fcda5 button.colab-df-convert');\n",
              "        buttonEl.style.display =\n",
              "          google.colab.kernel.accessAllowed ? 'block' : 'none';\n",
              "\n",
              "        async function convertToInteractive(key) {\n",
              "          const element = document.querySelector('#df-adff3cd6-a765-488f-b18d-7378785fcda5');\n",
              "          const dataTable =\n",
              "            await google.colab.kernel.invokeFunction('convertToInteractive',\n",
              "                                                     [key], {});\n",
              "          if (!dataTable) return;\n",
              "\n",
              "          const docLinkHtml = 'Like what you see? Visit the ' +\n",
              "            '<a target=\"_blank\" href=https://colab.research.google.com/notebooks/data_table.ipynb>data table notebook</a>'\n",
              "            + ' to learn more about interactive tables.';\n",
              "          element.innerHTML = '';\n",
              "          dataTable['output_type'] = 'display_data';\n",
              "          await google.colab.output.renderOutput(dataTable, element);\n",
              "          const docLink = document.createElement('div');\n",
              "          docLink.innerHTML = docLinkHtml;\n",
              "          element.appendChild(docLink);\n",
              "        }\n",
              "      </script>\n",
              "    </div>\n",
              "  </div>\n",
              "  "
            ]
          },
          "metadata": {},
          "execution_count": 42
        }
      ],
      "source": [
        "qa_answers"
      ],
      "metadata": {
        "pycharm": {
          "name": "#%%\n"
        },
        "colab": {
          "base_uri": "https://localhost:8080/",
          "height": 424
        },
        "id": "YJ4e6elp0b4t",
        "outputId": "438becca-0cbe-4f02-d6b9-f4e5e0aa61fd"
      }
    },
    {
      "cell_type": "markdown",
      "source": [
        "TODO: How to read in full answers dataset here? "
      ],
      "metadata": {
        "id": "TlmPKXM81lc2"
      }
    },
    {
      "cell_type": "markdown",
      "source": [
        "Explanation: https://huggingface.co/course/chapter7/7?fw=pt"
      ],
      "metadata": {
        "collapsed": false,
        "id": "53ZoyAbo0b4u"
      }
    },
    {
      "cell_type": "markdown",
      "source": [
        "Format we need:\n",
        "- context: document text (in qa tuples)\n",
        "- question: query (query_text in qa tuples)\n",
        "- answer_start: passage (text selection in qa tuples)\n",
        "- answer_end:"
      ],
      "metadata": {
        "collapsed": false,
        "id": "ycEtQt3A0b4u"
      }
    },
    {
      "cell_type": "code",
      "execution_count": 43,
      "outputs": [
        {
          "output_type": "stream",
          "name": "stderr",
          "text": [
            "Reusing dataset squad (/root/.cache/huggingface/datasets/squad/plain_text/1.0.0/d6ec3ceb99ca480ce37cdd35555d6cb2511d223b9150cce08a837ef62ffea453)\n"
          ]
        },
        {
          "output_type": "display_data",
          "data": {
            "text/plain": [
              "  0%|          | 0/2 [00:00<?, ?it/s]"
            ],
            "application/vnd.jupyter.widget-view+json": {
              "version_major": 2,
              "version_minor": 0,
              "model_id": "395ba5d783dd4763b3df54db2a014739"
            }
          },
          "metadata": {}
        }
      ],
      "source": [
        "raw_datasets = load_dataset(\"squad\")\n"
      ],
      "metadata": {
        "pycharm": {
          "name": "#%%\n"
        },
        "colab": {
          "referenced_widgets": [
            "395ba5d783dd4763b3df54db2a014739",
            "73f07e23820c4f65ba72875d9184f118",
            "a743ac2c648f482eaf32fb273cdd7334",
            "82998a7b3d5f4e86ba8845faf84b6cc4",
            "d3b76acb02fc47b5bf9003e447c575cc",
            "cb19f107ad374815ad41a85cc5c1a1ef",
            "15c3c57423d949a4bd9542277b068614",
            "5102173471b445e7b82f022156bdad24",
            "77c687dd432842579378c7d3d7b28af2",
            "cfddb00a62da4d3c84763ca05e92a00e",
            "06bbe88f687b4140aee4582b197bb2d0"
          ],
          "base_uri": "https://localhost:8080/",
          "height": 66
        },
        "id": "58nZUgsu0b4v",
        "outputId": "be1485ef-f657-4d77-dc7d-b02689a2cabb"
      }
    },
    {
      "cell_type": "code",
      "execution_count": 44,
      "outputs": [
        {
          "output_type": "execute_result",
          "data": {
            "text/plain": [
              "DatasetDict({\n",
              "    train: Dataset({\n",
              "        features: ['id', 'title', 'context', 'question', 'answers'],\n",
              "        num_rows: 87599\n",
              "    })\n",
              "    validation: Dataset({\n",
              "        features: ['id', 'title', 'context', 'question', 'answers'],\n",
              "        num_rows: 10570\n",
              "    })\n",
              "})"
            ]
          },
          "metadata": {},
          "execution_count": 44
        }
      ],
      "source": [
        "raw_datasets"
      ],
      "metadata": {
        "pycharm": {
          "name": "#%%\n"
        },
        "id": "ouoLxwAV0b4w",
        "outputId": "249cdcc5-ed1f-4186-d99d-89c5b4b190bd",
        "colab": {
          "base_uri": "https://localhost:8080/"
        }
      }
    },
    {
      "cell_type": "code",
      "execution_count": 45,
      "outputs": [],
      "source": [
        "def prepare_data(df):\n",
        "    answer = df[\"text_selection\"][0]\n",
        "    df[\"answer_start\"] = df[\"text_selection\"][\"answer_start\"][0]\n",
        "    df[\"answer_end\"] = df[\"answer_start\"] + len(answer)\n",
        "    return df"
      ],
      "metadata": {
        "pycharm": {
          "name": "#%%\n"
        },
        "id": "wLbXEFOT0b4w"
      }
    },
    {
      "cell_type": "code",
      "execution_count": 46,
      "outputs": [],
      "source": [
        "#qa_tuples.rdd.map(prepare_data)"
      ],
      "metadata": {
        "pycharm": {
          "name": "#%%\n"
        },
        "id": "9Y58k4ry0b4w"
      }
    },
    {
      "cell_type": "markdown",
      "source": [
        "# 3. Choose pre-trained extractive QA (Question-Answer) model from the model hub to us"
      ],
      "metadata": {
        "collapsed": false,
        "id": "ydn02PEZ0b4w"
      }
    },
    {
      "cell_type": "markdown",
      "source": [
        "train = datasets.DatasetDict(qa_tuples)"
      ],
      "metadata": {
        "collapsed": false,
        "id": "yNk1B17Z0b4x"
      }
    },
    {
      "cell_type": "code",
      "source": [
        "text_df = qa_tuples.loc[:,[\"text_selection\", \"document_text\"]]\n",
        "#text_df\n",
        "#def find_selection:\n",
        "\n",
        "answer_start = text_df.apply(lambda x: x['document_text'].find(x['text_selection']), axis = 1)\n",
        "train = qa_tuples.merge(pd.DataFrame(answer_start), left_index = True, right_index = True)"
      ],
      "metadata": {
        "id": "E9HQmYhndLi9"
      },
      "execution_count": 60,
      "outputs": []
    },
    {
      "cell_type": "code",
      "source": [
        "\n"
      ],
      "metadata": {
        "id": "EQCr3XQmj2sw"
      },
      "execution_count": 59,
      "outputs": []
    },
    {
      "cell_type": "code",
      "source": [
        ""
      ],
      "metadata": {
        "id": "-F2JVTHOlFZD"
      },
      "execution_count": 59,
      "outputs": []
    },
    {
      "cell_type": "code",
      "source": [
        ""
      ],
      "metadata": {
        "id": "oB6eZ-6r1E-6"
      },
      "execution_count": 59,
      "outputs": []
    },
    {
      "cell_type": "markdown",
      "source": [
        ""
      ],
      "metadata": {
        "collapsed": false,
        "id": "vix_NE5R0b4x"
      }
    },
    {
      "cell_type": "markdown",
      "source": [
        ""
      ],
      "metadata": {
        "collapsed": false,
        "id": "xnA8wiMz0b4x"
      }
    }
  ]
}